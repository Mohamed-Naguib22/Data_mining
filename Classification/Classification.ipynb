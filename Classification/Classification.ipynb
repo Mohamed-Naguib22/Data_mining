{
 "cells": [
  {
   "cell_type": "markdown",
   "metadata": {},
   "source": [
    "## Classification for Heart Disease Dataset"
   ]
  },
  {
   "cell_type": "markdown",
   "metadata": {},
   "source": [
    "## Importing the libraries"
   ]
  },
  {
   "cell_type": "markdown",
   "metadata": {},
   "source": [
    "Installing required libraries"
   ]
  },
  {
   "cell_type": "code",
   "execution_count": 235,
   "metadata": {},
   "outputs": [
    {
     "name": "stdout",
     "output_type": "stream",
     "text": [
      "Requirement already satisfied: numpy in c:\\users\\boo\\anaconda3\\lib\\site-packages (1.24.3)\n",
      "Requirement already satisfied: matplotlib in c:\\users\\boo\\anaconda3\\lib\\site-packages (3.7.2)\n",
      "Requirement already satisfied: contourpy>=1.0.1 in c:\\users\\boo\\anaconda3\\lib\\site-packages (from matplotlib) (1.0.5)\n",
      "Requirement already satisfied: cycler>=0.10 in c:\\users\\boo\\anaconda3\\lib\\site-packages (from matplotlib) (0.11.0)\n",
      "Requirement already satisfied: fonttools>=4.22.0 in c:\\users\\boo\\anaconda3\\lib\\site-packages (from matplotlib) (4.25.0)\n",
      "Requirement already satisfied: kiwisolver>=1.0.1 in c:\\users\\boo\\anaconda3\\lib\\site-packages (from matplotlib) (1.4.4)\n",
      "Requirement already satisfied: numpy>=1.20 in c:\\users\\boo\\anaconda3\\lib\\site-packages (from matplotlib) (1.24.3)\n",
      "Requirement already satisfied: packaging>=20.0 in c:\\users\\boo\\appdata\\roaming\\python\\python311\\site-packages (from matplotlib) (23.2)\n",
      "Requirement already satisfied: pillow>=6.2.0 in c:\\users\\boo\\anaconda3\\lib\\site-packages (from matplotlib) (9.4.0)\n",
      "Requirement already satisfied: pyparsing<3.1,>=2.3.1 in c:\\users\\boo\\anaconda3\\lib\\site-packages (from matplotlib) (3.0.9)\n",
      "Requirement already satisfied: python-dateutil>=2.7 in c:\\users\\boo\\anaconda3\\lib\\site-packages (from matplotlib) (2.8.2)\n",
      "Requirement already satisfied: six>=1.5 in c:\\users\\boo\\anaconda3\\lib\\site-packages (from python-dateutil>=2.7->matplotlib) (1.16.0)\n",
      "Requirement already satisfied: pandas in c:\\users\\boo\\anaconda3\\lib\\site-packages (2.0.3)\n",
      "Requirement already satisfied: python-dateutil>=2.8.2 in c:\\users\\boo\\anaconda3\\lib\\site-packages (from pandas) (2.8.2)\n",
      "Requirement already satisfied: pytz>=2020.1 in c:\\users\\boo\\anaconda3\\lib\\site-packages (from pandas) (2023.3.post1)\n",
      "Requirement already satisfied: tzdata>=2022.1 in c:\\users\\boo\\anaconda3\\lib\\site-packages (from pandas) (2023.3)\n",
      "Requirement already satisfied: numpy>=1.21.0 in c:\\users\\boo\\anaconda3\\lib\\site-packages (from pandas) (1.24.3)\n",
      "Requirement already satisfied: six>=1.5 in c:\\users\\boo\\anaconda3\\lib\\site-packages (from python-dateutil>=2.8.2->pandas) (1.16.0)\n",
      "Collecting sklearn\n",
      "  Using cached sklearn-0.0.post12.tar.gz (2.6 kB)\n",
      "  Preparing metadata (setup.py): started\n",
      "  Preparing metadata (setup.py): finished with status 'error'\n"
     ]
    },
    {
     "name": "stderr",
     "output_type": "stream",
     "text": [
      "  error: subprocess-exited-with-error\n",
      "  \n",
      "  × python setup.py egg_info did not run successfully.\n",
      "  │ exit code: 1\n",
      "  ╰─> [15 lines of output]\n",
      "      The 'sklearn' PyPI package is deprecated, use 'scikit-learn'\n",
      "      rather than 'sklearn' for pip commands.\n",
      "      \n",
      "      Here is how to fix this error in the main use cases:\n",
      "      - use 'pip install scikit-learn' rather than 'pip install sklearn'\n",
      "      - replace 'sklearn' by 'scikit-learn' in your pip requirements files\n",
      "        (requirements.txt, setup.py, setup.cfg, Pipfile, etc ...)\n",
      "      - if the 'sklearn' package is used by one of your dependencies,\n",
      "        it would be great if you take some time to track which package uses\n",
      "        'sklearn' instead of 'scikit-learn' and report it to their issue tracker\n",
      "      - as a last resort, set the environment variable\n",
      "        SKLEARN_ALLOW_DEPRECATED_SKLEARN_PACKAGE_INSTALL=True to avoid this error\n",
      "      \n",
      "      More information is available at\n",
      "      https://github.com/scikit-learn/sklearn-pypi-package\n",
      "      [end of output]\n",
      "  \n",
      "  note: This error originates from a subprocess, and is likely not a problem with pip.\n",
      "error: metadata-generation-failed\n",
      "\n",
      "× Encountered error while generating package metadata.\n",
      "╰─> See above for output.\n",
      "\n",
      "note: This is an issue with the package mentioned above, not pip.\n",
      "hint: See above for details.\n"
     ]
    },
    {
     "name": "stdout",
     "output_type": "stream",
     "text": [
      "Requirement already satisfied: scikit-learn in c:\\users\\boo\\anaconda3\\lib\\site-packages (1.3.0)\n",
      "Requirement already satisfied: numpy>=1.17.3 in c:\\users\\boo\\anaconda3\\lib\\site-packages (from scikit-learn) (1.24.3)\n",
      "Requirement already satisfied: scipy>=1.5.0 in c:\\users\\boo\\anaconda3\\lib\\site-packages (from scikit-learn) (1.11.1)\n",
      "Requirement already satisfied: joblib>=1.1.1 in c:\\users\\boo\\anaconda3\\lib\\site-packages (from scikit-learn) (1.2.0)\n",
      "Requirement already satisfied: threadpoolctl>=2.0.0 in c:\\users\\boo\\anaconda3\\lib\\site-packages (from scikit-learn) (2.2.0)\n",
      "Requirement already satisfied: seaborn in c:\\users\\boo\\anaconda3\\lib\\site-packages (0.12.2)\n",
      "Requirement already satisfied: numpy!=1.24.0,>=1.17 in c:\\users\\boo\\anaconda3\\lib\\site-packages (from seaborn) (1.24.3)\n",
      "Requirement already satisfied: pandas>=0.25 in c:\\users\\boo\\anaconda3\\lib\\site-packages (from seaborn) (2.0.3)\n",
      "Requirement already satisfied: matplotlib!=3.6.1,>=3.1 in c:\\users\\boo\\anaconda3\\lib\\site-packages (from seaborn) (3.7.2)\n",
      "Requirement already satisfied: contourpy>=1.0.1 in c:\\users\\boo\\anaconda3\\lib\\site-packages (from matplotlib!=3.6.1,>=3.1->seaborn) (1.0.5)\n",
      "Requirement already satisfied: cycler>=0.10 in c:\\users\\boo\\anaconda3\\lib\\site-packages (from matplotlib!=3.6.1,>=3.1->seaborn) (0.11.0)\n",
      "Requirement already satisfied: fonttools>=4.22.0 in c:\\users\\boo\\anaconda3\\lib\\site-packages (from matplotlib!=3.6.1,>=3.1->seaborn) (4.25.0)\n",
      "Requirement already satisfied: kiwisolver>=1.0.1 in c:\\users\\boo\\anaconda3\\lib\\site-packages (from matplotlib!=3.6.1,>=3.1->seaborn) (1.4.4)\n",
      "Requirement already satisfied: packaging>=20.0 in c:\\users\\boo\\appdata\\roaming\\python\\python311\\site-packages (from matplotlib!=3.6.1,>=3.1->seaborn) (23.2)\n",
      "Requirement already satisfied: pillow>=6.2.0 in c:\\users\\boo\\anaconda3\\lib\\site-packages (from matplotlib!=3.6.1,>=3.1->seaborn) (9.4.0)\n",
      "Requirement already satisfied: pyparsing<3.1,>=2.3.1 in c:\\users\\boo\\anaconda3\\lib\\site-packages (from matplotlib!=3.6.1,>=3.1->seaborn) (3.0.9)\n",
      "Requirement already satisfied: python-dateutil>=2.7 in c:\\users\\boo\\anaconda3\\lib\\site-packages (from matplotlib!=3.6.1,>=3.1->seaborn) (2.8.2)\n",
      "Requirement already satisfied: pytz>=2020.1 in c:\\users\\boo\\anaconda3\\lib\\site-packages (from pandas>=0.25->seaborn) (2023.3.post1)\n",
      "Requirement already satisfied: tzdata>=2022.1 in c:\\users\\boo\\anaconda3\\lib\\site-packages (from pandas>=0.25->seaborn) (2023.3)\n",
      "Requirement already satisfied: six>=1.5 in c:\\users\\boo\\anaconda3\\lib\\site-packages (from python-dateutil>=2.7->matplotlib!=3.6.1,>=3.1->seaborn) (1.16.0)\n"
     ]
    }
   ],
   "source": [
    "!pip3 install numpy\n",
    "!pip3 install matplotlib    \n",
    "!pip3 install pandas\n",
    "!pip3 install sklearn\n",
    "!pip3 install scikit-learn\n",
    "!pip3 install seaborn"
   ]
  },
  {
   "cell_type": "markdown",
   "metadata": {},
   "source": [
    "Importing the libraries"
   ]
  },
  {
   "cell_type": "code",
   "execution_count": 1,
   "metadata": {},
   "outputs": [],
   "source": [
    "import pandas as pd\n",
    "import numpy as np\n",
    "import seaborn as sns\n",
    "import matplotlib.pyplot as plt\n",
    "\n",
    "from sklearn.preprocessing import LabelEncoder\n",
    "from sklearn.preprocessing import RobustScaler\n",
    "from sklearn.neighbors import KNeighborsClassifier\n",
    "from sklearn.model_selection import train_test_split\n",
    "from sklearn.metrics import confusion_matrix, accuracy_score"
   ]
  },
  {
   "cell_type": "markdown",
   "metadata": {},
   "source": [
    "## Importing the dataset"
   ]
  },
  {
   "cell_type": "code",
   "execution_count": 2,
   "metadata": {},
   "outputs": [
    {
     "name": "stdout",
     "output_type": "stream",
     "text": [
      "[[64 66 'Male' ... 160 1.8 0.012]\n",
      " [21 94 'Male' ... 296 6.75 1.06]\n",
      " [55 64 'Male' ... 270 1.99 0.003]\n",
      " ...\n",
      " [45 85 'Male' ... 96 1.24 4.25]\n",
      " [54 58 'Male' ... 443 5.8 0.359]\n",
      " [51 94 'Male' ... 134 50.89 1.77]]\n",
      "['negative' 'positive' 'negative' ... 'positive' 'positive' 'positive']\n"
     ]
    }
   ],
   "source": [
    "dataset = pd.read_csv('Data.csv')\n",
    "\n",
    "#independent\n",
    "X = dataset.iloc[:, :-1].values\n",
    "\n",
    "#dependent\n",
    "y = dataset.iloc[:, -1].values\n",
    "print(X)\n",
    "print(y)"
   ]
  },
  {
   "cell_type": "code",
   "execution_count": 3,
   "metadata": {},
   "outputs": [
    {
     "data": {
      "text/plain": [
       "1319"
      ]
     },
     "execution_count": 3,
     "metadata": {},
     "output_type": "execute_result"
    }
   ],
   "source": [
    "len(dataset)"
   ]
  },
  {
   "cell_type": "code",
   "execution_count": 4,
   "metadata": {},
   "outputs": [
    {
     "data": {
      "text/html": [
       "<div>\n",
       "<style scoped>\n",
       "    .dataframe tbody tr th:only-of-type {\n",
       "        vertical-align: middle;\n",
       "    }\n",
       "\n",
       "    .dataframe tbody tr th {\n",
       "        vertical-align: top;\n",
       "    }\n",
       "\n",
       "    .dataframe thead th {\n",
       "        text-align: right;\n",
       "    }\n",
       "</style>\n",
       "<table border=\"1\" class=\"dataframe\">\n",
       "  <thead>\n",
       "    <tr style=\"text-align: right;\">\n",
       "      <th></th>\n",
       "      <th>age</th>\n",
       "      <th>impulse</th>\n",
       "      <th>gender</th>\n",
       "      <th>pressurehight</th>\n",
       "      <th>pressurelow</th>\n",
       "      <th>glucose</th>\n",
       "      <th>CK-MB</th>\n",
       "      <th>troponin</th>\n",
       "      <th>class</th>\n",
       "    </tr>\n",
       "  </thead>\n",
       "  <tbody>\n",
       "    <tr>\n",
       "      <th>0</th>\n",
       "      <td>64</td>\n",
       "      <td>66</td>\n",
       "      <td>Male</td>\n",
       "      <td>160</td>\n",
       "      <td>83</td>\n",
       "      <td>160</td>\n",
       "      <td>1.80</td>\n",
       "      <td>0.012</td>\n",
       "      <td>negative</td>\n",
       "    </tr>\n",
       "    <tr>\n",
       "      <th>1</th>\n",
       "      <td>21</td>\n",
       "      <td>94</td>\n",
       "      <td>Male</td>\n",
       "      <td>98</td>\n",
       "      <td>46</td>\n",
       "      <td>296</td>\n",
       "      <td>6.75</td>\n",
       "      <td>1.060</td>\n",
       "      <td>positive</td>\n",
       "    </tr>\n",
       "    <tr>\n",
       "      <th>2</th>\n",
       "      <td>55</td>\n",
       "      <td>64</td>\n",
       "      <td>Male</td>\n",
       "      <td>160</td>\n",
       "      <td>77</td>\n",
       "      <td>270</td>\n",
       "      <td>1.99</td>\n",
       "      <td>0.003</td>\n",
       "      <td>negative</td>\n",
       "    </tr>\n",
       "    <tr>\n",
       "      <th>3</th>\n",
       "      <td>64</td>\n",
       "      <td>70</td>\n",
       "      <td>Male</td>\n",
       "      <td>120</td>\n",
       "      <td>55</td>\n",
       "      <td>270</td>\n",
       "      <td>13.87</td>\n",
       "      <td>0.122</td>\n",
       "      <td>positive</td>\n",
       "    </tr>\n",
       "    <tr>\n",
       "      <th>4</th>\n",
       "      <td>55</td>\n",
       "      <td>64</td>\n",
       "      <td>Male</td>\n",
       "      <td>112</td>\n",
       "      <td>65</td>\n",
       "      <td>300</td>\n",
       "      <td>1.08</td>\n",
       "      <td>0.003</td>\n",
       "      <td>negative</td>\n",
       "    </tr>\n",
       "  </tbody>\n",
       "</table>\n",
       "</div>"
      ],
      "text/plain": [
       "   age  impulse gender  pressurehight  pressurelow  glucose  CK-MB  troponin  \\\n",
       "0   64       66   Male            160           83      160   1.80     0.012   \n",
       "1   21       94   Male             98           46      296   6.75     1.060   \n",
       "2   55       64   Male            160           77      270   1.99     0.003   \n",
       "3   64       70   Male            120           55      270  13.87     0.122   \n",
       "4   55       64   Male            112           65      300   1.08     0.003   \n",
       "\n",
       "      class  \n",
       "0  negative  \n",
       "1  positive  \n",
       "2  negative  \n",
       "3  positive  \n",
       "4  negative  "
      ]
     },
     "execution_count": 4,
     "metadata": {},
     "output_type": "execute_result"
    }
   ],
   "source": [
    "dataset.head()"
   ]
  },
  {
   "cell_type": "code",
   "execution_count": 5,
   "metadata": {},
   "outputs": [
    {
     "data": {
      "text/html": [
       "<div>\n",
       "<style scoped>\n",
       "    .dataframe tbody tr th:only-of-type {\n",
       "        vertical-align: middle;\n",
       "    }\n",
       "\n",
       "    .dataframe tbody tr th {\n",
       "        vertical-align: top;\n",
       "    }\n",
       "\n",
       "    .dataframe thead th {\n",
       "        text-align: right;\n",
       "    }\n",
       "</style>\n",
       "<table border=\"1\" class=\"dataframe\">\n",
       "  <thead>\n",
       "    <tr style=\"text-align: right;\">\n",
       "      <th></th>\n",
       "      <th>age</th>\n",
       "      <th>impulse</th>\n",
       "      <th>pressurehight</th>\n",
       "      <th>pressurelow</th>\n",
       "      <th>glucose</th>\n",
       "      <th>CK-MB</th>\n",
       "      <th>troponin</th>\n",
       "    </tr>\n",
       "  </thead>\n",
       "  <tbody>\n",
       "    <tr>\n",
       "      <th>count</th>\n",
       "      <td>1319.000000</td>\n",
       "      <td>1319.000000</td>\n",
       "      <td>1319.000000</td>\n",
       "      <td>1319.000000</td>\n",
       "      <td>1319.000000</td>\n",
       "      <td>1319.000000</td>\n",
       "      <td>1319.000000</td>\n",
       "    </tr>\n",
       "    <tr>\n",
       "      <th>mean</th>\n",
       "      <td>56.191812</td>\n",
       "      <td>76.062168</td>\n",
       "      <td>127.170584</td>\n",
       "      <td>72.269143</td>\n",
       "      <td>146.634572</td>\n",
       "      <td>15.274306</td>\n",
       "      <td>0.360942</td>\n",
       "    </tr>\n",
       "    <tr>\n",
       "      <th>std</th>\n",
       "      <td>13.647315</td>\n",
       "      <td>15.350456</td>\n",
       "      <td>26.122720</td>\n",
       "      <td>14.033924</td>\n",
       "      <td>74.923349</td>\n",
       "      <td>46.327083</td>\n",
       "      <td>1.154568</td>\n",
       "    </tr>\n",
       "    <tr>\n",
       "      <th>min</th>\n",
       "      <td>14.000000</td>\n",
       "      <td>20.000000</td>\n",
       "      <td>42.000000</td>\n",
       "      <td>38.000000</td>\n",
       "      <td>35.000000</td>\n",
       "      <td>0.321000</td>\n",
       "      <td>0.001000</td>\n",
       "    </tr>\n",
       "    <tr>\n",
       "      <th>25%</th>\n",
       "      <td>47.000000</td>\n",
       "      <td>64.000000</td>\n",
       "      <td>110.000000</td>\n",
       "      <td>62.000000</td>\n",
       "      <td>98.000000</td>\n",
       "      <td>1.655000</td>\n",
       "      <td>0.006000</td>\n",
       "    </tr>\n",
       "    <tr>\n",
       "      <th>50%</th>\n",
       "      <td>58.000000</td>\n",
       "      <td>74.000000</td>\n",
       "      <td>124.000000</td>\n",
       "      <td>72.000000</td>\n",
       "      <td>116.000000</td>\n",
       "      <td>2.850000</td>\n",
       "      <td>0.014000</td>\n",
       "    </tr>\n",
       "    <tr>\n",
       "      <th>75%</th>\n",
       "      <td>65.000000</td>\n",
       "      <td>85.000000</td>\n",
       "      <td>143.000000</td>\n",
       "      <td>81.000000</td>\n",
       "      <td>169.500000</td>\n",
       "      <td>5.805000</td>\n",
       "      <td>0.085500</td>\n",
       "    </tr>\n",
       "    <tr>\n",
       "      <th>max</th>\n",
       "      <td>103.000000</td>\n",
       "      <td>135.000000</td>\n",
       "      <td>223.000000</td>\n",
       "      <td>154.000000</td>\n",
       "      <td>541.000000</td>\n",
       "      <td>300.000000</td>\n",
       "      <td>10.300000</td>\n",
       "    </tr>\n",
       "  </tbody>\n",
       "</table>\n",
       "</div>"
      ],
      "text/plain": [
       "               age      impulse  pressurehight  pressurelow      glucose  \\\n",
       "count  1319.000000  1319.000000    1319.000000  1319.000000  1319.000000   \n",
       "mean     56.191812    76.062168     127.170584    72.269143   146.634572   \n",
       "std      13.647315    15.350456      26.122720    14.033924    74.923349   \n",
       "min      14.000000    20.000000      42.000000    38.000000    35.000000   \n",
       "25%      47.000000    64.000000     110.000000    62.000000    98.000000   \n",
       "50%      58.000000    74.000000     124.000000    72.000000   116.000000   \n",
       "75%      65.000000    85.000000     143.000000    81.000000   169.500000   \n",
       "max     103.000000   135.000000     223.000000   154.000000   541.000000   \n",
       "\n",
       "             CK-MB     troponin  \n",
       "count  1319.000000  1319.000000  \n",
       "mean     15.274306     0.360942  \n",
       "std      46.327083     1.154568  \n",
       "min       0.321000     0.001000  \n",
       "25%       1.655000     0.006000  \n",
       "50%       2.850000     0.014000  \n",
       "75%       5.805000     0.085500  \n",
       "max     300.000000    10.300000  "
      ]
     },
     "execution_count": 5,
     "metadata": {},
     "output_type": "execute_result"
    }
   ],
   "source": [
    "dataset.describe()"
   ]
  },
  {
   "cell_type": "code",
   "execution_count": 6,
   "metadata": {},
   "outputs": [
    {
     "name": "stdout",
     "output_type": "stream",
     "text": [
      "<class 'pandas.core.frame.DataFrame'>\n",
      "RangeIndex: 1319 entries, 0 to 1318\n",
      "Data columns (total 9 columns):\n",
      " #   Column         Non-Null Count  Dtype  \n",
      "---  ------         --------------  -----  \n",
      " 0   age            1319 non-null   int64  \n",
      " 1   impulse        1319 non-null   int64  \n",
      " 2   gender         1319 non-null   object \n",
      " 3   pressurehight  1319 non-null   int64  \n",
      " 4   pressurelow    1319 non-null   int64  \n",
      " 5   glucose        1319 non-null   int64  \n",
      " 6   CK-MB          1319 non-null   float64\n",
      " 7   troponin       1319 non-null   float64\n",
      " 8   class          1319 non-null   object \n",
      "dtypes: float64(2), int64(5), object(2)\n",
      "memory usage: 92.9+ KB\n"
     ]
    }
   ],
   "source": [
    "dataset.info()"
   ]
  },
  {
   "cell_type": "code",
   "execution_count": 7,
   "metadata": {},
   "outputs": [
    {
     "data": {
      "text/plain": [
       "age                int64\n",
       "impulse            int64\n",
       "gender            object\n",
       "pressurehight      int64\n",
       "pressurelow        int64\n",
       "glucose            int64\n",
       "CK-MB            float64\n",
       "troponin         float64\n",
       "class             object\n",
       "dtype: object"
      ]
     },
     "execution_count": 7,
     "metadata": {},
     "output_type": "execute_result"
    }
   ],
   "source": [
    "dataset.dtypes"
   ]
  },
  {
   "cell_type": "code",
   "execution_count": 8,
   "metadata": {},
   "outputs": [
    {
     "data": {
      "text/plain": [
       "age              False\n",
       "impulse          False\n",
       "gender           False\n",
       "pressurehight    False\n",
       "pressurelow      False\n",
       "glucose          False\n",
       "CK-MB            False\n",
       "troponin         False\n",
       "class            False\n",
       "dtype: bool"
      ]
     },
     "execution_count": 8,
     "metadata": {},
     "output_type": "execute_result"
    }
   ],
   "source": [
    "dataset.isnull().any()"
   ]
  },
  {
   "cell_type": "markdown",
   "metadata": {},
   "source": [
    "## Preprocessing"
   ]
  },
  {
   "cell_type": "markdown",
   "metadata": {},
   "source": [
    "Encoding Gender Column"
   ]
  },
  {
   "cell_type": "code",
   "execution_count": 9,
   "metadata": {},
   "outputs": [
    {
     "data": {
      "text/plain": [
       "array([[64, 66, 1, ..., 160, 1.8, 0.012],\n",
       "       [21, 94, 1, ..., 296, 6.75, 1.06],\n",
       "       [55, 64, 1, ..., 270, 1.99, 0.003],\n",
       "       ...,\n",
       "       [45, 85, 1, ..., 96, 1.24, 4.25],\n",
       "       [54, 58, 1, ..., 443, 5.8, 0.359],\n",
       "       [51, 94, 1, ..., 134, 50.89, 1.77]], dtype=object)"
      ]
     },
     "execution_count": 9,
     "metadata": {},
     "output_type": "execute_result"
    }
   ],
   "source": [
    "le = LabelEncoder()\n",
    "\n",
    "X[:, 2] = le.fit_transform(X[:, 2])\n",
    "X"
   ]
  },
  {
   "cell_type": "markdown",
   "metadata": {},
   "source": [
    "Split the dataset into training and testing sets"
   ]
  },
  {
   "cell_type": "code",
   "execution_count": 10,
   "metadata": {},
   "outputs": [
    {
     "name": "stdout",
     "output_type": "stream",
     "text": [
      "X_train shape =>  (1055, 8)\n",
      "y_train shape =>  (1055,)\n",
      "X_test shape =>  (264, 8)\n",
      "y_test shape => (264,)\n"
     ]
    }
   ],
   "source": [
    "X_train, X_test, y_train, y_test = train_test_split(X, y, test_size=0.2, random_state=42)\n",
    "\n",
    "print('X_train shape => ', X_train.shape)\n",
    "print('y_train shape => ', y_train.shape)\n",
    "print('X_test shape => ', X_test.shape)\n",
    "print('y_test shape =>', y_test.shape)"
   ]
  },
  {
   "cell_type": "markdown",
   "metadata": {},
   "source": [
    "Robust Scaling"
   ]
  },
  {
   "cell_type": "code",
   "execution_count": 11,
   "metadata": {},
   "outputs": [
    {
     "name": "stdout",
     "output_type": "stream",
     "text": [
      "Training Data After Scaling:\n",
      "[[-0.88888889  0.37209302  0.         ... -0.23684211  0.64963504\n",
      "  -0.13414634]\n",
      " [ 1.          2.74418605  0.         ... -0.31578947 -0.10218978\n",
      "   0.20731707]\n",
      " [ 0.11111111 -0.3255814   0.         ... -0.13157895 -0.4649635\n",
      "   5.02439024]\n",
      " ...\n",
      " [-0.44444444  0.18604651 -1.         ...  3.93421053  3.44525547\n",
      "  -0.1097561 ]\n",
      " [-0.22222222 -0.13953488  0.         ...  0.14473684  0.04379562\n",
      "  -0.08536585]\n",
      " [ 2.5        -0.88372093 -1.         ...  0.44736842 11.96350365\n",
      "   0.36585366]]\n",
      "\n",
      "Testing Data After Scaling:\n",
      "[[ 1.00000000e+00 -9.30232558e-02  0.00000000e+00 ...  3.68421053e-01\n",
      "   7.17055961e+01  1.21951220e-01]\n",
      " [-1.55555556e+00 -3.25581395e-01 -1.00000000e+00 ... -3.02631579e-01\n",
      "   2.77372263e-01 -1.34146341e-01]\n",
      " [-4.44444444e-01 -5.58139535e-01  0.00000000e+00 ... -6.57894737e-02\n",
      "  -5.83941606e-02 -9.75609756e-02]\n",
      " ...\n",
      " [ 5.55555556e-01  3.25581395e-01 -1.00000000e+00 ...  5.65789474e-01\n",
      "  -4.20924574e-01  8.04878049e-01]\n",
      " [ 3.88888889e-01 -3.25581395e-01  0.00000000e+00 ...  1.10526316e+00\n",
      "   1.15815085e+00 -3.65853659e-02]\n",
      " [-1.66666667e-01  3.72093023e-01  0.00000000e+00 ... -9.21052632e-02\n",
      "  -3.16301703e-01  1.34146341e-01]]\n"
     ]
    }
   ],
   "source": [
    "rs = RobustScaler()\n",
    "X_train = rs.fit_transform(X_train)\n",
    "X_test = rs.transform(X_test)\n",
    "\n",
    "print(\"Training Data After Scaling:\")\n",
    "print(X_train)\n",
    "\n",
    "print(\"\\nTesting Data After Scaling:\")\n",
    "print(X_test)"
   ]
  },
  {
   "cell_type": "code",
   "execution_count": 12,
   "metadata": {},
   "outputs": [
    {
     "name": "stdout",
     "output_type": "stream",
     "text": [
      "-2.558139534883721\n",
      "2.7906976744186047\n"
     ]
    }
   ],
   "source": [
    "print(X_train[:, 1].min())\n",
    "print(X_train[:, 1].max())"
   ]
  },
  {
   "cell_type": "markdown",
   "metadata": {},
   "source": [
    "## Training the model"
   ]
  },
  {
   "cell_type": "markdown",
   "metadata": {},
   "source": [
    "Traning using KNN"
   ]
  },
  {
   "cell_type": "code",
   "execution_count": 13,
   "metadata": {},
   "outputs": [
    {
     "data": {
      "text/html": [
       "<style>#sk-container-id-1 {color: black;}#sk-container-id-1 pre{padding: 0;}#sk-container-id-1 div.sk-toggleable {background-color: white;}#sk-container-id-1 label.sk-toggleable__label {cursor: pointer;display: block;width: 100%;margin-bottom: 0;padding: 0.3em;box-sizing: border-box;text-align: center;}#sk-container-id-1 label.sk-toggleable__label-arrow:before {content: \"▸\";float: left;margin-right: 0.25em;color: #696969;}#sk-container-id-1 label.sk-toggleable__label-arrow:hover:before {color: black;}#sk-container-id-1 div.sk-estimator:hover label.sk-toggleable__label-arrow:before {color: black;}#sk-container-id-1 div.sk-toggleable__content {max-height: 0;max-width: 0;overflow: hidden;text-align: left;background-color: #f0f8ff;}#sk-container-id-1 div.sk-toggleable__content pre {margin: 0.2em;color: black;border-radius: 0.25em;background-color: #f0f8ff;}#sk-container-id-1 input.sk-toggleable__control:checked~div.sk-toggleable__content {max-height: 200px;max-width: 100%;overflow: auto;}#sk-container-id-1 input.sk-toggleable__control:checked~label.sk-toggleable__label-arrow:before {content: \"▾\";}#sk-container-id-1 div.sk-estimator input.sk-toggleable__control:checked~label.sk-toggleable__label {background-color: #d4ebff;}#sk-container-id-1 div.sk-label input.sk-toggleable__control:checked~label.sk-toggleable__label {background-color: #d4ebff;}#sk-container-id-1 input.sk-hidden--visually {border: 0;clip: rect(1px 1px 1px 1px);clip: rect(1px, 1px, 1px, 1px);height: 1px;margin: -1px;overflow: hidden;padding: 0;position: absolute;width: 1px;}#sk-container-id-1 div.sk-estimator {font-family: monospace;background-color: #f0f8ff;border: 1px dotted black;border-radius: 0.25em;box-sizing: border-box;margin-bottom: 0.5em;}#sk-container-id-1 div.sk-estimator:hover {background-color: #d4ebff;}#sk-container-id-1 div.sk-parallel-item::after {content: \"\";width: 100%;border-bottom: 1px solid gray;flex-grow: 1;}#sk-container-id-1 div.sk-label:hover label.sk-toggleable__label {background-color: #d4ebff;}#sk-container-id-1 div.sk-serial::before {content: \"\";position: absolute;border-left: 1px solid gray;box-sizing: border-box;top: 0;bottom: 0;left: 50%;z-index: 0;}#sk-container-id-1 div.sk-serial {display: flex;flex-direction: column;align-items: center;background-color: white;padding-right: 0.2em;padding-left: 0.2em;position: relative;}#sk-container-id-1 div.sk-item {position: relative;z-index: 1;}#sk-container-id-1 div.sk-parallel {display: flex;align-items: stretch;justify-content: center;background-color: white;position: relative;}#sk-container-id-1 div.sk-item::before, #sk-container-id-1 div.sk-parallel-item::before {content: \"\";position: absolute;border-left: 1px solid gray;box-sizing: border-box;top: 0;bottom: 0;left: 50%;z-index: -1;}#sk-container-id-1 div.sk-parallel-item {display: flex;flex-direction: column;z-index: 1;position: relative;background-color: white;}#sk-container-id-1 div.sk-parallel-item:first-child::after {align-self: flex-end;width: 50%;}#sk-container-id-1 div.sk-parallel-item:last-child::after {align-self: flex-start;width: 50%;}#sk-container-id-1 div.sk-parallel-item:only-child::after {width: 0;}#sk-container-id-1 div.sk-dashed-wrapped {border: 1px dashed gray;margin: 0 0.4em 0.5em 0.4em;box-sizing: border-box;padding-bottom: 0.4em;background-color: white;}#sk-container-id-1 div.sk-label label {font-family: monospace;font-weight: bold;display: inline-block;line-height: 1.2em;}#sk-container-id-1 div.sk-label-container {text-align: center;}#sk-container-id-1 div.sk-container {/* jupyter's `normalize.less` sets `[hidden] { display: none; }` but bootstrap.min.css set `[hidden] { display: none !important; }` so we also need the `!important` here to be able to override the default hidden behavior on the sphinx rendered scikit-learn.org. See: https://github.com/scikit-learn/scikit-learn/issues/21755 */display: inline-block !important;position: relative;}#sk-container-id-1 div.sk-text-repr-fallback {display: none;}</style><div id=\"sk-container-id-1\" class=\"sk-top-container\"><div class=\"sk-text-repr-fallback\"><pre>KNeighborsClassifier(n_neighbors=15)</pre><b>In a Jupyter environment, please rerun this cell to show the HTML representation or trust the notebook. <br />On GitHub, the HTML representation is unable to render, please try loading this page with nbviewer.org.</b></div><div class=\"sk-container\" hidden><div class=\"sk-item\"><div class=\"sk-estimator sk-toggleable\"><input class=\"sk-toggleable__control sk-hidden--visually\" id=\"sk-estimator-id-1\" type=\"checkbox\" checked><label for=\"sk-estimator-id-1\" class=\"sk-toggleable__label sk-toggleable__label-arrow\">KNeighborsClassifier</label><div class=\"sk-toggleable__content\"><pre>KNeighborsClassifier(n_neighbors=15)</pre></div></div></div></div></div>"
      ],
      "text/plain": [
       "KNeighborsClassifier(n_neighbors=15)"
      ]
     },
     "execution_count": 13,
     "metadata": {},
     "output_type": "execute_result"
    }
   ],
   "source": [
    "classifier = KNeighborsClassifier(n_neighbors = 15, metric = 'minkowski', p = 2)\n",
    "\n",
    "classifier.fit(X_train, y_train)"
   ]
  },
  {
   "cell_type": "markdown",
   "metadata": {},
   "source": [
    "## Testing the model"
   ]
  },
  {
   "cell_type": "markdown",
   "metadata": {},
   "source": [
    "Predicted results Vs. Actual (Testing) results"
   ]
  },
  {
   "cell_type": "code",
   "execution_count": 14,
   "metadata": {},
   "outputs": [
    {
     "name": "stdout",
     "output_type": "stream",
     "text": [
      "Prdecting Vs. Actual\n",
      "[['positive' 'positive']\n",
      " ['negative' 'negative']\n",
      " ['negative' 'negative']\n",
      " ['negative' 'negative']\n",
      " ['negative' 'positive']\n",
      " ['positive' 'positive']\n",
      " ['positive' 'positive']\n",
      " ['positive' 'positive']\n",
      " ['positive' 'positive']\n",
      " ['negative' 'positive']\n",
      " ['negative' 'negative']\n",
      " ['negative' 'negative']\n",
      " ['positive' 'positive']\n",
      " ['positive' 'positive']\n",
      " ['positive' 'positive']\n",
      " ['negative' 'negative']\n",
      " ['positive' 'positive']\n",
      " ['negative' 'positive']\n",
      " ['negative' 'negative']\n",
      " ['negative' 'negative']\n",
      " ['negative' 'negative']\n",
      " ['positive' 'negative']\n",
      " ['negative' 'positive']\n",
      " ['positive' 'positive']\n",
      " ['positive' 'positive']\n",
      " ['negative' 'positive']\n",
      " ['positive' 'negative']\n",
      " ['positive' 'negative']\n",
      " ['positive' 'positive']\n",
      " ['negative' 'negative']\n",
      " ['negative' 'negative']\n",
      " ['negative' 'negative']\n",
      " ['positive' 'positive']\n",
      " ['negative' 'negative']\n",
      " ['positive' 'positive']\n",
      " ['negative' 'negative']\n",
      " ['positive' 'positive']\n",
      " ['positive' 'positive']\n",
      " ['negative' 'negative']\n",
      " ['positive' 'positive']\n",
      " ['positive' 'positive']\n",
      " ['negative' 'negative']\n",
      " ['positive' 'positive']\n",
      " ['positive' 'positive']\n",
      " ['positive' 'positive']\n",
      " ['positive' 'positive']\n",
      " ['positive' 'positive']\n",
      " ['positive' 'positive']\n",
      " ['negative' 'negative']\n",
      " ['positive' 'positive']\n",
      " ['negative' 'negative']\n",
      " ['positive' 'positive']\n",
      " ['negative' 'positive']\n",
      " ['negative' 'negative']\n",
      " ['negative' 'negative']\n",
      " ['negative' 'negative']\n",
      " ['positive' 'positive']\n",
      " ['negative' 'negative']\n",
      " ['negative' 'negative']\n",
      " ['positive' 'positive']\n",
      " ['positive' 'positive']\n",
      " ['positive' 'positive']\n",
      " ['negative' 'negative']\n",
      " ['positive' 'positive']\n",
      " ['negative' 'negative']\n",
      " ['positive' 'positive']\n",
      " ['positive' 'positive']\n",
      " ['positive' 'positive']\n",
      " ['negative' 'positive']\n",
      " ['positive' 'negative']\n",
      " ['negative' 'positive']\n",
      " ['positive' 'negative']\n",
      " ['positive' 'positive']\n",
      " ['positive' 'positive']\n",
      " ['positive' 'positive']\n",
      " ['positive' 'positive']\n",
      " ['negative' 'negative']\n",
      " ['positive' 'positive']\n",
      " ['positive' 'positive']\n",
      " ['positive' 'positive']\n",
      " ['negative' 'positive']\n",
      " ['positive' 'positive']\n",
      " ['positive' 'positive']\n",
      " ['negative' 'negative']\n",
      " ['positive' 'positive']\n",
      " ['negative' 'negative']\n",
      " ['positive' 'positive']\n",
      " ['negative' 'negative']\n",
      " ['positive' 'positive']\n",
      " ['negative' 'negative']\n",
      " ['positive' 'positive']\n",
      " ['negative' 'positive']\n",
      " ['positive' 'positive']\n",
      " ['negative' 'negative']\n",
      " ['positive' 'positive']\n",
      " ['negative' 'negative']\n",
      " ['negative' 'positive']\n",
      " ['negative' 'positive']\n",
      " ['positive' 'positive']\n",
      " ['positive' 'positive']\n",
      " ['negative' 'negative']\n",
      " ['positive' 'positive']\n",
      " ['positive' 'positive']\n",
      " ['negative' 'negative']\n",
      " ['positive' 'negative']\n",
      " ['negative' 'positive']\n",
      " ['negative' 'negative']\n",
      " ['positive' 'positive']\n",
      " ['negative' 'negative']\n",
      " ['negative' 'negative']\n",
      " ['negative' 'negative']\n",
      " ['positive' 'positive']\n",
      " ['positive' 'positive']\n",
      " ['positive' 'positive']\n",
      " ['negative' 'negative']\n",
      " ['positive' 'positive']\n",
      " ['negative' 'negative']\n",
      " ['positive' 'positive']\n",
      " ['positive' 'positive']\n",
      " ['positive' 'negative']\n",
      " ['positive' 'positive']\n",
      " ['positive' 'positive']\n",
      " ['positive' 'positive']\n",
      " ['positive' 'positive']\n",
      " ['positive' 'positive']\n",
      " ['negative' 'negative']\n",
      " ['negative' 'negative']\n",
      " ['positive' 'positive']\n",
      " ['positive' 'positive']\n",
      " ['positive' 'positive']\n",
      " ['positive' 'positive']\n",
      " ['negative' 'negative']\n",
      " ['positive' 'positive']\n",
      " ['negative' 'negative']\n",
      " ['positive' 'positive']\n",
      " ['positive' 'positive']\n",
      " ['negative' 'negative']\n",
      " ['negative' 'negative']\n",
      " ['positive' 'positive']\n",
      " ['negative' 'negative']\n",
      " ['positive' 'positive']\n",
      " ['positive' 'positive']\n",
      " ['negative' 'negative']\n",
      " ['positive' 'positive']\n",
      " ['positive' 'positive']\n",
      " ['negative' 'negative']\n",
      " ['negative' 'negative']\n",
      " ['positive' 'positive']\n",
      " ['negative' 'negative']\n",
      " ['negative' 'negative']\n",
      " ['positive' 'positive']\n",
      " ['negative' 'negative']\n",
      " ['positive' 'positive']\n",
      " ['positive' 'positive']\n",
      " ['positive' 'positive']\n",
      " ['negative' 'negative']\n",
      " ['negative' 'positive']\n",
      " ['positive' 'positive']\n",
      " ['positive' 'positive']\n",
      " ['negative' 'negative']\n",
      " ['negative' 'negative']\n",
      " ['negative' 'positive']\n",
      " ['negative' 'negative']\n",
      " ['negative' 'negative']\n",
      " ['positive' 'positive']\n",
      " ['negative' 'negative']\n",
      " ['negative' 'positive']\n",
      " ['negative' 'positive']\n",
      " ['negative' 'positive']\n",
      " ['positive' 'positive']\n",
      " ['positive' 'negative']\n",
      " ['positive' 'negative']\n",
      " ['positive' 'positive']\n",
      " ['negative' 'negative']\n",
      " ['negative' 'negative']\n",
      " ['positive' 'positive']\n",
      " ['negative' 'negative']\n",
      " ['positive' 'positive']\n",
      " ['negative' 'negative']\n",
      " ['negative' 'positive']\n",
      " ['negative' 'negative']\n",
      " ['positive' 'positive']\n",
      " ['negative' 'negative']\n",
      " ['positive' 'positive']\n",
      " ['positive' 'positive']\n",
      " ['negative' 'positive']\n",
      " ['positive' 'negative']\n",
      " ['negative' 'negative']\n",
      " ['positive' 'positive']\n",
      " ['positive' 'positive']\n",
      " ['negative' 'positive']\n",
      " ['positive' 'positive']\n",
      " ['negative' 'positive']\n",
      " ['negative' 'negative']\n",
      " ['positive' 'positive']\n",
      " ['negative' 'negative']\n",
      " ['negative' 'negative']\n",
      " ['negative' 'negative']\n",
      " ['negative' 'positive']\n",
      " ['positive' 'positive']\n",
      " ['negative' 'positive']\n",
      " ['positive' 'positive']\n",
      " ['negative' 'negative']\n",
      " ['positive' 'positive']\n",
      " ['positive' 'positive']\n",
      " ['negative' 'negative']\n",
      " ['positive' 'positive']\n",
      " ['positive' 'positive']\n",
      " ['positive' 'positive']\n",
      " ['positive' 'positive']\n",
      " ['negative' 'negative']\n",
      " ['positive' 'positive']\n",
      " ['positive' 'positive']\n",
      " ['positive' 'negative']\n",
      " ['positive' 'positive']\n",
      " ['positive' 'positive']\n",
      " ['positive' 'positive']\n",
      " ['negative' 'negative']\n",
      " ['negative' 'positive']\n",
      " ['positive' 'positive']\n",
      " ['positive' 'positive']\n",
      " ['negative' 'negative']\n",
      " ['negative' 'negative']\n",
      " ['positive' 'positive']\n",
      " ['positive' 'positive']\n",
      " ['negative' 'positive']\n",
      " ['negative' 'negative']\n",
      " ['positive' 'positive']\n",
      " ['positive' 'positive']\n",
      " ['positive' 'positive']\n",
      " ['negative' 'negative']\n",
      " ['negative' 'positive']\n",
      " ['positive' 'positive']\n",
      " ['negative' 'negative']\n",
      " ['negative' 'negative']\n",
      " ['positive' 'positive']\n",
      " ['negative' 'negative']\n",
      " ['positive' 'positive']\n",
      " ['positive' 'positive']\n",
      " ['negative' 'positive']\n",
      " ['positive' 'positive']\n",
      " ['negative' 'negative']\n",
      " ['positive' 'positive']\n",
      " ['negative' 'negative']\n",
      " ['negative' 'negative']\n",
      " ['positive' 'positive']\n",
      " ['negative' 'negative']\n",
      " ['positive' 'positive']\n",
      " ['positive' 'positive']\n",
      " ['positive' 'positive']\n",
      " ['negative' 'negative']\n",
      " ['negative' 'positive']\n",
      " ['negative' 'positive']\n",
      " ['positive' 'positive']\n",
      " ['positive' 'positive']\n",
      " ['negative' 'negative']\n",
      " ['positive' 'positive']\n",
      " ['negative' 'negative']\n",
      " ['positive' 'positive']\n",
      " ['negative' 'negative']\n",
      " ['negative' 'negative']\n",
      " ['positive' 'positive']\n",
      " ['positive' 'positive']\n",
      " ['negative' 'positive']]\n"
     ]
    }
   ],
   "source": [
    "print(\"Prdecting Vs. Actual\")\n",
    "y_pred = classifier.predict(X_test)\n",
    "print(np.concatenate((y_pred.reshape(len(y_pred), 1), y_test.reshape(len(y_test), 1)), 1))"
   ]
  },
  {
   "cell_type": "markdown",
   "metadata": {},
   "source": [
    "## Predicting the output of a new value"
   ]
  },
  {
   "cell_type": "code",
   "execution_count": 15,
   "metadata": {},
   "outputs": [
    {
     "name": "stdout",
     "output_type": "stream",
     "text": [
      "Prdecting new result:\n",
      "['negative']\n",
      "['positive']\n"
     ]
    }
   ],
   "source": [
    "print(\"Prdecting new result:\")\n",
    "new_data_scaled_1 = rs.transform([[50, 63, 1, 160, 72, 100, 0.7, 0.004]])\n",
    "new_data_scaled_2 = rs.transform([[60, 77, 1, 160, 50, 150, 2.7, 1.03]])\n",
    "print(classifier.predict(new_data_scaled_1))\n",
    "print(classifier.predict(new_data_scaled_2))"
   ]
  },
  {
   "cell_type": "markdown",
   "metadata": {},
   "source": [
    "## Evaluating the model"
   ]
  },
  {
   "cell_type": "markdown",
   "metadata": {},
   "source": [
    "Confusion Matrix"
   ]
  },
  {
   "cell_type": "code",
   "execution_count": 16,
   "metadata": {},
   "outputs": [
    {
     "name": "stdout",
     "output_type": "stream",
     "text": [
      "[[ 90  11]\n",
      " [ 31 132]]\n"
     ]
    }
   ],
   "source": [
    "conf_matrix  = confusion_matrix(y_test, y_pred)\n",
    "print(conf_matrix)"
   ]
  },
  {
   "cell_type": "markdown",
   "metadata": {},
   "source": [
    "Accuracy Score"
   ]
  },
  {
   "cell_type": "code",
   "execution_count": 17,
   "metadata": {},
   "outputs": [
    {
     "data": {
      "text/plain": [
       "0.8409090909090909"
      ]
     },
     "execution_count": 17,
     "metadata": {},
     "output_type": "execute_result"
    }
   ],
   "source": [
    "accuracy_score(y_test, y_pred)"
   ]
  },
  {
   "cell_type": "markdown",
   "metadata": {},
   "source": [
    "## Visualizing the model"
   ]
  },
  {
   "cell_type": "code",
   "execution_count": 18,
   "metadata": {},
   "outputs": [
    {
     "data": {
      "image/png": "[encoded data removed]",
      "text/plain": [
       "<Figure size 640x480 with 2 Axes>"
      ]
     },
     "metadata": {},
     "output_type": "display_data"
    }
   ],
   "source": [
    "ax = sns.heatmap(conf_matrix, annot=True, fmt=\".0f\", cmap=\"Blues\")\n",
    "\n",
    "ax.set_title('confusion_matrix' + '\\n\\n')\n",
    "ax.set_xlabel('Predicted Values')\n",
    "ax.set_ylabel('Actual Values')\n",
    "\n",
    "ax.xaxis.set_ticklabels(['Negative', 'Positive'])\n",
    "ax.yaxis.set_ticklabels(['Negative', 'Positive'])\n",
    "\n",
    "plt.show()"
   ]
  }
 ],
 "metadata": {
  "kernelspec": {
   "display_name": "Python 3",
   "language": "python",
   "name": "python3"
  },
  "language_info": {
   "codemirror_mode": {
    "name": "ipython",
    "version": 3
   },
   "file_extension": ".py",
   "mimetype": "text/x-python",
   "name": "python",
   "nbconvert_exporter": "python",
   "pygments_lexer": "ipython3",
   "version": "3.11.0"
  }
 },
 "nbformat": 4,
 "nbformat_minor": 2
}
